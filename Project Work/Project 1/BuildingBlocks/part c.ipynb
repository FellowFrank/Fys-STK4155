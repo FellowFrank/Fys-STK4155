{
 "cells": [
  {
   "cell_type": "code",
   "execution_count": null,
   "id": "994c6999",
   "metadata": {},
   "outputs": [],
   "source": []
  },
  {
   "cell_type": "markdown",
   "id": "70862198",
   "metadata": {},
   "source": [
    "## Part C : Writing once own gradient descent code\n",
    "replace now the analytical expressions for the optimal parameters θ with your own gradient descent\n",
    "code. In this exercise we focus only on the simplest gradient descent approach with a fixed learning\n",
    "rate (see the exercises from week 37 and the lecture notes from week 36).\n",
    "Study and compare your results from parts a) and b) with your gradient descent approch. Discuss\n",
    "in particular the role of the learning rate."
   ]
  },
  {
   "cell_type": "markdown",
   "id": "ead24761",
   "metadata": {},
   "source": []
  }
 ],
 "metadata": {
  "language_info": {
   "name": "python"
  }
 },
 "nbformat": 4,
 "nbformat_minor": 5
}
