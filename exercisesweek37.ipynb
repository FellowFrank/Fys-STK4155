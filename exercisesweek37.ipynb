{
 "cells": [
  {
   "cell_type": "markdown",
   "id": "8e6632a0",
   "metadata": {
    "editable": true
   },
   "source": [
    "<!-- HTML file automatically generated from DocOnce source (https://github.com/doconce/doconce/)\n",
    "doconce format html exercisesweek37.do.txt  -->\n",
    "<!-- dom:TITLE: Exercises week 37 -->\n"
   ]
  },
  {
   "cell_type": "markdown",
   "id": "82705c4f",
   "metadata": {
    "editable": true
   },
   "source": [
    "# Exercises week 37\n",
    "\n",
    "**Implementing gradient descent for Ridge and ordinary Least Squares Regression**\n",
    "\n",
    "Date: **September 8-12, 2025**\n"
   ]
  },
  {
   "cell_type": "markdown",
   "id": "921bf331",
   "metadata": {
    "editable": true
   },
   "source": [
    "## Learning goals\n",
    "\n",
    "After having completed these exercises you will have:\n",
    "\n",
    "1. Your own code for the implementation of the simplest gradient descent approach applied to ordinary least squares (OLS) and Ridge regression\n",
    "\n",
    "2. Be able to compare the analytical expressions for OLS and Ridge regression with the gradient descent approach\n",
    "\n",
    "3. Explore the role of the learning rate in the gradient descent approach and the hyperparameter $\\lambda$ in Ridge regression\n",
    "\n",
    "4. Scale the data properly\n"
   ]
  },
  {
   "cell_type": "markdown",
   "id": "adff65d5",
   "metadata": {
    "editable": true
   },
   "source": [
    "## Simple one-dimensional second-order polynomial\n",
    "\n",
    "We start with a very simple function\n"
   ]
  },
  {
   "cell_type": "markdown",
   "id": "70418b3d",
   "metadata": {
    "editable": true
   },
   "source": [
    "$$\n",
    "f(x)= 2-x+5x^2,\n",
    "$$\n"
   ]
  },
  {
   "cell_type": "markdown",
   "id": "11a3cf73",
   "metadata": {
    "editable": true
   },
   "source": [
    "defined for $x\\in [-2,2]$. You can add noise if you wish.\n",
    "\n",
    "We are going to fit this function with a polynomial ansatz. The easiest thing is to set up a second-order polynomial and see if you can fit the above function.\n",
    "Feel free to play around with higher-order polynomials.\n"
   ]
  },
  {
   "cell_type": "code",
   "execution_count": 1,
   "id": "9a9187a3",
   "metadata": {},
   "outputs": [],
   "source": [
    "# Important Libraries\n",
    "import numpy as np\n",
    "import matplotlib.pyplot as plt\n",
    "from sklearn.model_selection import train_test_split\n",
    "from sklearn.preprocessing import StandardScaler"
   ]
  },
  {
   "cell_type": "markdown",
   "id": "04a06b51",
   "metadata": {
    "editable": true
   },
   "source": [
    "## Exercise 1, scale your data\n",
    "\n",
    "Before fitting a regression model, it is good practice to normalize or\n",
    "standardize the features. This ensures all features are on a\n",
    "comparable scale, which is especially important when using\n",
    "regularization. Here we will perform standardization, scaling each\n",
    "feature to have mean 0 and standard deviation 1.\n"
   ]
  },
  {
   "cell_type": "markdown",
   "id": "408db3d9",
   "metadata": {
    "editable": true
   },
   "source": [
    "### 1a)\n",
    "\n",
    "Compute the mean and standard deviation of each column (feature) in your design/feature matrix $\\boldsymbol{X}$.\n",
    "Subtract the mean and divide by the standard deviation for each feature.\n",
    "\n",
    "We will also center the target $\\boldsymbol{y}$ to mean $0$. Centering $\\boldsymbol{y}$\n",
    "(and each feature) means the model does not require a separate intercept\n",
    "term, the data is shifted such that the intercept is effectively 0\n",
    ". (In practice, one could include an intercept in the model and not\n",
    "penalize it, but here we simplify by centering.)\n",
    "Choose $n=100$ data points and set up $\\boldsymbol{x}$, $\\boldsymbol{y}$ and the design matrix $\\boldsymbol{X}$.\n"
   ]
  },
  {
   "cell_type": "code",
   "execution_count": 2,
   "id": "41550943",
   "metadata": {},
   "outputs": [],
   "source": [
    "# Generating the synthetic dataset\n",
    "p_features = 2\n",
    "n = 100\n",
    "x = np.linspace(-3, 3, n)\n",
    "y = 5 * x**2  - x + 2 + np.random.normal(0,0.2)\n",
    "y = y.reshape(-1, 1)"
   ]
  },
  {
   "cell_type": "code",
   "execution_count": 3,
   "id": "640eb2a9",
   "metadata": {},
   "outputs": [],
   "source": [
    "def polynomial_features(x, p, intercept=False):\n",
    "    n = len(x)\n",
    "    k = 0\n",
    "    if intercept:\n",
    "        X = np.zeros((n, p + 1))\n",
    "        X[:, 0] = 1\n",
    "        k += 1\n",
    "    else:\n",
    "        X = np.zeros((n, p))\n",
    "\n",
    "    for i in range(1, p +1):\n",
    "        X[:, i + k-1] = x**i \n",
    "    return X"
   ]
  },
  {
   "cell_type": "code",
   "execution_count": 4,
   "id": "37fb732c",
   "metadata": {
    "collapsed": false,
    "editable": true
   },
   "outputs": [],
   "source": [
    "X = polynomial_features(x, p=p_features, intercept=False)\n",
    "\n",
    "# Standardize features (zero mean, unit variance for each feature)\n",
    "X_mean = X.mean(axis=0)\n",
    "X_std = X.std(axis=0)\n",
    "\n",
    "if np.any(X_std == 0):\n",
    "    X_std[X_std == 0] = 1  # safeguard to avoid division by zero for constant features\n",
    "\n",
    "X_norm = (X - X_mean) / X_std\n",
    "X = X_norm\n",
    "# Center the target to zero mean (optional, to simplify intercept handling)\n",
    "y_mean = y.mean(axis=0)\n",
    "y_centered = y - y_mean\n",
    "y = y_centered"
   ]
  },
  {
   "cell_type": "markdown",
   "id": "d861e1e3",
   "metadata": {
    "editable": true
   },
   "source": [
    "Fill in the necessary details. Do we need to center the $y$-values?\n",
    "\n",
    "After this preprocessing, each column of $\\boldsymbol{X}_{\\mathrm{norm}}$ has mean zero and standard deviation $1$\n",
    "and $\\boldsymbol{y}_{\\mathrm{centered}}$ has mean 0. This makes the optimization landscape\n",
    "nicer and ensures the regularization penalty $\\lambda \\sum_j\n",
    "\\theta_j^2$ in Ridge regression treats each coefficient fairly (since features are on the\n",
    "same scale).\n"
   ]
  },
  {
   "cell_type": "code",
   "execution_count": 5,
   "id": "d9fabc98",
   "metadata": {},
   "outputs": [
    {
     "name": "stdout",
     "output_type": "stream",
     "text": [
      "X_norm: \t [5.77315973e-17 7.54951657e-17] [1. 1.]\n",
      "y_centered: \t [2.84217094e-16]\n"
     ]
    }
   ],
   "source": [
    "# Just to check that it is done correctly\n",
    "print(\"X_norm: \\t\",X_norm.mean(axis=0), X_norm.std(axis=0))\n",
    "print(\"y_centered: \\t\",y_centered.mean(axis=0))"
   ]
  },
  {
   "cell_type": "markdown",
   "id": "b3e774d0",
   "metadata": {
    "editable": true
   },
   "source": [
    "## Exercise 2, calculate the gradients\n",
    "\n",
    "Find the gradients for OLS and Ridge regression using the mean-squared error as cost/loss function.\n"
   ]
  },
  {
   "cell_type": "markdown",
   "id": "6086c3e4",
   "metadata": {},
   "source": [
    "$$\n",
    "\\nabla_{\\theta} C(\\theta) = \\frac{2}{n}\\begin{bmatrix} \\sum_{i=1}^{100} \\left(\\theta_0+\\theta_1x_i-y_i\\right) \\\\\n",
    "\\sum_{i=1}^{100}\\left( x_i (\\theta_0+\\theta_1x_i)-y_ix_i\\right) \\\\\n",
    "\\end{bmatrix} = \\frac{2}{n}X^T(X\\theta - \\mathbf{y}),\n",
    "$$"
   ]
  },
  {
   "cell_type": "code",
   "execution_count": null,
   "id": "7900a6b5",
   "metadata": {},
   "outputs": [],
   "source": [
    "def Gradient_OLS(X, y,theta, eta=0.01, n=100):\n",
    "    return (2.0/n)*X.T @ (X @ theta-y)\n"
   ]
  },
  {
   "cell_type": "markdown",
   "id": "520e0a42",
   "metadata": {},
   "source": [
    "$$\n",
    "\\nabla_\\theta C_{\\text{ridge}}(\\theta)  = \\frac{2}{n}\\begin{bmatrix} \\sum_{i=1}^{100} \\left(\\theta_0+\\theta_1x_i-y_i\\right) \\\\\n",
    "\\sum_{i=1}^{100}\\left( x_i (\\theta_0+\\theta_1x_i)-y_ix_i\\right) \\\\\n",
    "\\end{bmatrix} + 2\\lambda\\begin{bmatrix} \\theta_0 \\\\ \\theta_1\\end{bmatrix} = 2 (\\frac{1}{n}X^T(X\\theta - \\mathbf{y})+\\lambda \\theta).\n",
    "$$"
   ]
  },
  {
   "cell_type": "code",
   "execution_count": null,
   "id": "58d8293a",
   "metadata": {},
   "outputs": [],
   "source": [
    "def Gradient_Ridge(X, y, theta, eta=0.01, lambda_param=1.0,n=100):\n",
    "\n",
    "    return (2.0/n)*X.T @ (X @ theta-y) + 2*lambda_param*theta \n",
    "\n"
   ]
  },
  {
   "cell_type": "markdown",
   "id": "d5dc7708",
   "metadata": {
    "editable": true
   },
   "source": [
    "## Exercise 3, using the analytical formulae for OLS and Ridge regression to find the optimal paramters $\\boldsymbol{\\theta}$\n"
   ]
  },
  {
   "cell_type": "code",
   "execution_count": 9,
   "id": "4c9c86ac",
   "metadata": {
    "collapsed": false,
    "editable": true
   },
   "outputs": [
    {
     "name": "stdout",
     "output_type": "stream",
     "text": [
      "Closed-form Ridge coefficients: [[-1.74928386]\n",
      " [13.68402453]]\n",
      "Closed-form OLS coefficients: [[-1.74945879]\n",
      " [13.68539293]]\n"
     ]
    }
   ],
   "source": [
    "# Set regularization parameter, either a single value or a vector of values\n",
    "# Note that lambda is a python keyword. The lambda keyword is used to create small, single-expression functions without a formal name. These are often called \"anonymous functions\" or \"lambda functions.\"\n",
    "lam = 0.01\n",
    "theta = np.random.randn(2,1)\n",
    "\n",
    "# Analytical form for OLS and Ridge solution: theta_Ridge = (X^T X + lambda * I)^{-1} X^T y and theta_OLS = (X^T X)^{-1} X^T y\n",
    "I = np.eye(2)\n",
    "theta_closed_formRidge = np.linalg.inv(X.T @ X + lam * np.identity(len(X.T))) @ X.T @ y\n",
    "theta_closed_formOLS = np.linalg.inv(X.T @ X) @ X.T @ y\n",
    "\n",
    "print(\"Closed-form Ridge coefficients:\", theta_closed_formRidge)\n",
    "print(\"Closed-form OLS coefficients:\", theta_closed_formOLS)"
   ]
  },
  {
   "cell_type": "markdown",
   "id": "eeae00fd",
   "metadata": {
    "editable": true
   },
   "source": [
    "This computes the Ridge and OLS regression coefficients directly. The identity\n",
    "matrix $I$ has the same size as $X^T X$. It adds $\\lambda$ to the diagonal of $X^T X$ for Ridge regression. We\n",
    "then invert this matrix and multiply by $X^T y$. The result\n",
    "for $\\boldsymbol{\\theta}$ is a NumPy array of shape (n$\\_$features,) containing the\n",
    "fitted parameters $\\boldsymbol{\\theta}$.\n"
   ]
  },
  {
   "cell_type": "markdown",
   "id": "e1c215d5",
   "metadata": {
    "editable": true
   },
   "source": [
    "### 3a)\n",
    "\n",
    "Finalize, in the above code, the OLS and Ridge regression determination of the optimal parameters $\\boldsymbol{\\theta}$.\n"
   ]
  },
  {
   "cell_type": "code",
   "execution_count": 11,
   "id": "f909873b",
   "metadata": {},
   "outputs": [
    {
     "name": "stdout",
     "output_type": "stream",
     "text": [
      "Optimal Parameters (Closed-form)\n",
      "Closed-form Ridge coefficients:\n",
      " [[-1.74928386]\n",
      " [13.68402453]]\n",
      "Closed-form OLS coefficients:\n",
      " [[-1.74945879]\n",
      " [13.68539293]]\n"
     ]
    }
   ],
   "source": [
    "print(\"Optimal Parameters (Closed-form)\")\n",
    "print(\"Closed-form Ridge coefficients:\\n\", theta_closed_formRidge)\n",
    "print(\"Closed-form OLS coefficients:\\n\", theta_closed_formOLS)"
   ]
  },
  {
   "cell_type": "markdown",
   "id": "587dd3dc",
   "metadata": {
    "editable": true
   },
   "source": [
    "### 3b)\n",
    "\n",
    "Explore the results as function of different values of the hyperparameter $\\lambda$. See for example exercise 4 from week 36.\n"
   ]
  },
  {
   "cell_type": "code",
   "execution_count": 31,
   "id": "e2daeb6f",
   "metadata": {},
   "outputs": [
    {
     "data": {
      "image/png": "[encoded data removed]",
      "text/plain": [
       "<Figure size 640x480 with 1 Axes>"
      ]
     },
     "metadata": {},
     "output_type": "display_data"
    }
   ],
   "source": [
    "import matplotlib.pyplot as plt\n",
    "from sklearn.metrics import mean_squared_error\n",
    "\n",
    "plot_predict = []\n",
    "points = 1000\n",
    "\n",
    "lam =  np.linspace(-3, 3, points)\n",
    "\n",
    "for i in range(points):\n",
    "    theta = np.random.randn(2,1)\n",
    "    # Analytical form for OLS and Ridge solution: theta_Ridge = (X^T X + lambda * I)^{-1} X^T y and theta_OLS = (X^T X)^{-1} X^T y\n",
    "    I = np.eye(2)\n",
    "    theta_closed_formRidge = np.linalg.inv(X.T @ X + lam[i] * np.identity(len(X.T))) @ X.T @ y\n",
    "    mse_predict = mean_squared_error(y, X @ theta_closed_formRidge)\n",
    "    plot_predict.append(mse_predict)\n",
    "\n",
    "\n",
    "\n",
    "plt.plot(lam, plot_predict, label=\"MSE\")\n",
    "plt.xlabel(\"lambda\")\n",
    "plt.legend()\n",
    "plt.show()\n"
   ]
  },
  {
   "cell_type": "markdown",
   "id": "d84c36c5",
   "metadata": {},
   "source": [
    "We see that the model errors blows up quite fast once $\\lambda$ has i higher absolute value. "
   ]
  },
  {
   "cell_type": "markdown",
   "id": "bfa34697",
   "metadata": {
    "editable": true
   },
   "source": [
    "## Exercise 4, Implementing the simplest form for gradient descent\n",
    "\n",
    "Alternatively, we can fit the ridge regression model using gradient\n",
    "descent. This is useful to visualize the iterative convergence and is\n",
    "necessary if $n$ and $p$ are so large that the closed-form might be\n",
    "too slow or memory-intensive. We derive the gradients from the cost\n",
    "functions defined above. Use the gradients of the Ridge and OLS cost functions with respect to\n",
    "the parameters $\\boldsymbol{\\theta}$ and set up (using the template below) your own gradient descent code for OLS and Ridge regression.\n",
    "\n",
    "Below is a template code for gradient descent implementation of ridge:\n"
   ]
  },
  {
   "cell_type": "code",
   "execution_count": 35,
   "id": "49245f55",
   "metadata": {
    "collapsed": false,
    "editable": true
   },
   "outputs": [
    {
     "name": "stdout",
     "output_type": "stream",
     "text": [
      "Gradient Descent OLS coefficients: [[-1.74945879]\n",
      " [13.6853929 ]]\n",
      "Gradient Descent Ridge coefficients: [[-1.74771108]\n",
      " [13.67172118]]\n"
     ]
    }
   ],
   "source": [
    "# Gradient descent parameters, learning rate eta first\n",
    "eta = 0.0001\n",
    "lam = 0.001\n",
    "# Then number of iterations\n",
    "num_iters = 100000\n",
    "\n",
    "# Initialize weights for gradient descent\n",
    "theta_gdOLS = np.random.randn(2,1)\n",
    "theta_gdRidge = np.random.randn(2,1)\n",
    "\n",
    "# Gradient descent loop\n",
    "for t in range(num_iters):\n",
    "    # Compute gradients for OSL and Ridge\n",
    "    grad_OLS = Gradient_OLS(X_norm, y_centered, eta=eta,theta=theta_gdOLS)\n",
    "    theta_gdOLS -= eta * grad_OLS\n",
    "    grad_Ridge= Gradient_Ridge(X_norm, y_centered, eta=eta, lambda_param=lam,theta=theta_gdRidge)\n",
    "    theta_gdRidge -= eta * grad_Ridge\n",
    "\n",
    "# After the loop, theta contains the fitted coefficients\n",
    "\n",
    "print(\"Gradient Descent OLS coefficients:\", theta_gdOLS)\n",
    "print(\"Gradient Descent Ridge coefficients:\", theta_gdRidge)"
   ]
  },
  {
   "cell_type": "markdown",
   "id": "f3f43f2c",
   "metadata": {
    "editable": true
   },
   "source": [
    "### 4a)\n",
    "\n",
    "Write first a gradient descent code for OLS only using the above template.\n",
    "Discuss the results as function of the learning rate parameters and the number of iterations\n"
   ]
  },
  {
   "cell_type": "code",
   "execution_count": null,
   "id": "b122bdc4",
   "metadata": {},
   "outputs": [
    {
     "name": "stdout",
     "output_type": "stream",
     "text": [
      "Eta: 0.001 , iterations: 10\n",
      "Theta OLS: [0.64795865] [0.6027791]\n",
      "\n",
      "\n",
      "Eta: 0.001 , iterations: 1000\n",
      "Theta OLS: [-1.42565275] [11.91839594]\n",
      "\n",
      "\n",
      "Eta: 0.1 , iterations: 10\n",
      "Theta OLS: [-1.4916276] [12.216093]\n",
      "\n",
      "\n",
      "Eta: 0.1 , iterations: 1000\n",
      "Theta OLS: [-1.74945879] [13.68539293]\n",
      "\n",
      "\n",
      "Eta: 10.0 , iterations: 10\n",
      "Theta OLS: [6.0253295e+12] [-9.00636199e+13]\n",
      "\n",
      "\n",
      "Eta: 10.0 , iterations: 1000\n",
      "Theta OLS: [nan] [nan]\n",
      "\n",
      "\n"
     ]
    },
    {
     "name": "stderr",
     "output_type": "stream",
     "text": [
      "C:\\Users\\Anton\\AppData\\Local\\Temp\\ipykernel_20124\\871024197.py:2: RuntimeWarning: overflow encountered in matmul\n",
      "  gradient = (2.0/n)*X.T @ (X @ theta-y)\n",
      "C:\\Users\\Anton\\AppData\\Local\\Temp\\ipykernel_20124\\871024197.py:2: RuntimeWarning: invalid value encountered in matmul\n",
      "  gradient = (2.0/n)*X.T @ (X @ theta-y)\n"
     ]
    }
   ],
   "source": [
    "n_iter = 1000\n",
    "etas =  np.logspace(-3, 1, 3)\n",
    "\n",
    "iterations = [10, 1000]\n",
    "\n",
    "for eta in etas:\n",
    "    theta_gdOLS = np.random.randn(2,1)\n",
    "    for n_iter in iterations:\n",
    "        for i in range(n_iter):\n",
    "            grad_OLS = Gradient_OLS(X_norm, y_centered, eta=eta,theta=theta_gdOLS)\n",
    "            theta_gdOLS -= eta * grad_OLS\n",
    "        print(\"Eta:\", eta, \", iterations:\", n_iter)\n",
    "        print(\"Theta OLS:\", theta_gdOLS[0], theta_gdOLS[1])\n",
    "        print(\"\\n\")\n",
    "    "
   ]
  },
  {
   "cell_type": "markdown",
   "id": "8e0b8d8b",
   "metadata": {},
   "source": [
    "Again we see that the when eta becomes too large the model blows up, while when eta is too small it takes a long time to learn what the optimal parameters are. Meaning that the cost for finding the optimal solution is higher. "
   ]
  },
  {
   "cell_type": "markdown",
   "id": "9ba303be",
   "metadata": {
    "editable": true
   },
   "source": [
    "### 4b)\n",
    "\n",
    "Write then a similar code for Ridge regression using the above template.\n",
    "Try to add a stopping parameter as function of the number iterations and the difference between the new and old $\\theta$ values. How would you define a stopping criterion?\n"
   ]
  },
  {
   "cell_type": "code",
   "execution_count": 37,
   "id": "4dda39a5",
   "metadata": {},
   "outputs": [
    {
     "name": "stdout",
     "output_type": "stream",
     "text": [
      "Eta: 1e-05 , lambda 1e-05 , iterations: 10\n",
      "Theta Ridge: [-1.22159502] [2.0798811]\n",
      "\n",
      "\n",
      "Eta: 1e-05 , lambda 1e-05 , iterations: 10000\n",
      "Theta Ridge: [-1.31727904] [4.18361669]\n",
      "\n",
      "\n",
      "Eta: 1e-05 , lambda 0.0031622776601683794 , iterations: 10\n",
      "Theta Ridge: [-1.31736464] [4.18551423]\n",
      "\n",
      "\n",
      "Eta: 1e-05 , lambda 0.0031622776601683794 , iterations: 10000\n",
      "Theta Ridge: [-1.39491187] [5.90464085]\n",
      "\n",
      "\n",
      "Eta: 1e-05 , lambda 1.0 , iterations: 10\n",
      "Theta Ridge: [-1.39470383] [5.90501601]\n",
      "\n",
      "\n",
      "Eta: 1e-05 , lambda 1.0 , iterations: 10000\n",
      "Theta Ridge: [-1.2232759] [6.21415549]\n",
      "\n",
      "\n",
      "Eta: 0.01 , lambda 1e-05 , iterations: 10\n",
      "Theta Ridge: [0.52465994] [2.90308001]\n",
      "\n",
      "\n",
      "Converged after 846 iterations\n",
      "Eta: 0.01 , lambda 1e-05 , iterations: 10000\n",
      "Theta Ridge: [-1.74944121] [13.68525567]\n",
      "\n",
      "\n",
      "Eta: 0.01 , lambda 0.0031622776601683794 , iterations: 10\n",
      "Theta Ridge: [-1.74843272] [13.67736652]\n",
      "\n",
      "\n",
      "Converged after 557 iterations\n",
      "Eta: 0.01 , lambda 0.0031622776601683794 , iterations: 10000\n",
      "Theta Ridge: [-1.74394401] [13.64225278]\n",
      "\n",
      "\n",
      "Eta: 0.01 , lambda 1.0 , iterations: 10\n",
      "Theta Ridge: [-1.45261164] [11.36326341]\n",
      "\n",
      "\n",
      "Converged after 413 iterations\n",
      "Eta: 0.01 , lambda 1.0 , iterations: 10000\n",
      "Theta Ridge: [-0.87472942] [6.84269668]\n",
      "\n",
      "\n",
      "Eta: 10.0 , lambda 1e-05 , iterations: 10\n",
      "Theta Ridge: [1.02897634e+13] [-7.66389246e+13]\n",
      "\n",
      "\n",
      "Eta: 10.0 , lambda 1e-05 , iterations: 10000\n",
      "Theta Ridge: [nan] [nan]\n",
      "\n",
      "\n",
      "Eta: 10.0 , lambda 0.0031622776601683794 , iterations: 10\n",
      "Theta Ridge: [nan] [nan]\n",
      "\n",
      "\n"
     ]
    },
    {
     "name": "stderr",
     "output_type": "stream",
     "text": [
      "C:\\Users\\Anton\\AppData\\Local\\Temp\\ipykernel_18124\\2281413180.py:3: RuntimeWarning: overflow encountered in matmul\n",
      "  return (2.0/n)*X.T @ (X @ theta-y) + 2*lambda_param*theta\n",
      "C:\\Users\\Anton\\AppData\\Local\\Temp\\ipykernel_18124\\2281413180.py:3: RuntimeWarning: invalid value encountered in matmul\n",
      "  return (2.0/n)*X.T @ (X @ theta-y) + 2*lambda_param*theta\n"
     ]
    },
    {
     "name": "stdout",
     "output_type": "stream",
     "text": [
      "Eta: 10.0 , lambda 0.0031622776601683794 , iterations: 10000\n",
      "Theta Ridge: [nan] [nan]\n",
      "\n",
      "\n",
      "Eta: 10.0 , lambda 1.0 , iterations: 10\n",
      "Theta Ridge: [nan] [nan]\n",
      "\n",
      "\n",
      "Eta: 10.0 , lambda 1.0 , iterations: 10000\n",
      "Theta Ridge: [nan] [nan]\n",
      "\n",
      "\n"
     ]
    }
   ],
   "source": [
    "n_iter = 1000\n",
    "etas =  np.logspace(-5, 1, 3)\n",
    "\n",
    "lam_params = np.logspace(-5, 0, 3)\n",
    "iterations = [10, 10000]\n",
    "\n",
    "for eta in etas:\n",
    "    theta = np.random.randn(2,1)\n",
    "    for lam in lam_params:\n",
    "        for n_iter in iterations:\n",
    "            for i in range(n_iter):\n",
    "                grad = Gradient_Ridge(X_norm, y_centered, eta=eta,theta=theta, lambda_param=lam)\n",
    "                if np.absolute(eta*grad).sum() < 1e-8:\n",
    "                    print(\"Converged after\", i, \"iterations\")\n",
    "                    break\n",
    "                theta -= eta * grad\n",
    "            \n",
    "            print(\"Eta:\", eta,\", lambda\",lam, \", iterations:\", n_iter)\n",
    "            print(\"Theta Ridge:\", theta[0], theta[1])\n",
    "            print(\"\\n\")\n",
    "    "
   ]
  },
  {
   "cell_type": "markdown",
   "id": "78362c6c",
   "metadata": {
    "editable": true
   },
   "source": [
    "## Exercise 5, Ridge regression and a new Synthetic Dataset\n",
    "\n",
    "We create a synthetic linear regression dataset with a sparse\n",
    "underlying relationship. This means we have many features but only a\n",
    "few of them actually contribute to the target. In our example, we’ll\n",
    "use 10 features with only 3 non-zero weights in the true model. This\n",
    "way, the target is generated as a linear combination of a few features\n",
    "(with known coefficients) plus some random noise. The steps we include are:\n",
    "\n",
    "Decide on the number of samples and features (e.g. 100 samples, 10 features).\n",
    "Define the **true** coefficient vector with mostly zeros (for sparsity). For example, we set $\\hat{\\boldsymbol{\\theta}} = [5.0, -3.0, 0.0, 0.0, 0.0, 0.0, 2.0, 0.0, 0.0, 0.0]$, meaning only features 0, 1, and 6 have a real effect on y.\n",
    "\n",
    "Then we sample feature values for $\\boldsymbol{X}$ randomly (e.g. from a normal distribution). We use a normal distribution so features are roughly centered around 0.\n",
    "Then we compute the target values $y$ using the linear combination $\\boldsymbol{X}\\hat{\\boldsymbol{\\theta}}$ and add some noise (to simulate measurement error or unexplained variance).\n",
    "\n",
    "Below is the code to generate the dataset:\n"
   ]
  },
  {
   "cell_type": "code",
   "execution_count": 88,
   "id": "8be1cebe",
   "metadata": {
    "collapsed": false,
    "editable": true
   },
   "outputs": [],
   "source": [
    "import numpy as np\n",
    "\n",
    "# Set random seed for reproducibility\n",
    "np.random.seed(0)\n",
    "\n",
    "# Define dataset size\n",
    "n_samples = 100\n",
    "n_features = 10\n",
    "\n",
    "# Define true coefficients (sparse linear relationship)\n",
    "theta_true = np.array([5.0, -3.0, 0.0, 0.0, 0.0, 0.0, 2.0, 0.0, 0.0, 0.0])\n",
    "\n",
    "# Generate feature matrix X (n_samples x n_features) with random values\n",
    "X = np.random.randn(n_samples, n_features)  # standard normal distribution\n",
    "\n",
    "# Generate target values y with a linear combination of X and theta_true, plus noise\n",
    "noise = 0.5 * np.random.randn(n_samples)  # Gaussian noise\n",
    "y = X @ theta_true + noise\n",
    "y = y.reshape(-1,1)\n",
    "y_true = X @ theta_true \n",
    "y_true = y_true.reshape(-1,1)\n",
    "theta_true = theta_true.reshape(-1,1)"
   ]
  },
  {
   "cell_type": "code",
   "execution_count": 89,
   "id": "bb695a6a",
   "metadata": {},
   "outputs": [
    {
     "data": {
      "text/plain": [
       "array([[ 5.],\n",
       "       [-3.],\n",
       "       [ 0.],\n",
       "       [ 0.],\n",
       "       [ 0.],\n",
       "       [ 0.],\n",
       "       [ 2.],\n",
       "       [ 0.],\n",
       "       [ 0.],\n",
       "       [ 0.]])"
      ]
     },
     "execution_count": 89,
     "metadata": {},
     "output_type": "execute_result"
    }
   ],
   "source": [
    "theta_true"
   ]
  },
  {
   "cell_type": "markdown",
   "id": "e2693666",
   "metadata": {
    "editable": true
   },
   "source": [
    "This code produces a dataset where only features 0, 1, and 6\n",
    "significantly influence $\\boldsymbol{y}$. The rest of the features have zero true\n",
    "coefficient. For example, feature 0 has\n",
    "a true weight of 5.0, feature 1 has -3.0, and feature 6 has 2.0, so\n",
    "the expected relationship is:\n"
   ]
  },
  {
   "cell_type": "markdown",
   "id": "bc954d12",
   "metadata": {
    "editable": true
   },
   "source": [
    "$$\n",
    "y \\approx 5 \\times x_0 \\;-\\; 3 \\times x_1 \\;+\\; 2 \\times x_6 \\;+\\; \\text{noise}.\n",
    "$$\n"
   ]
  },
  {
   "cell_type": "markdown",
   "id": "6534b610",
   "metadata": {
    "editable": true
   },
   "source": [
    "You can remove the noise if you wish to.\n",
    "\n",
    "Try to fit the above data set using OLS and Ridge regression with the analytical expressions and your own gradient descent codes.\n",
    "\n",
    "If everything worked correctly, the learned coefficients should be\n",
    "close to the true values [5.0, -3.0, 0.0, …, 2.0, …] that we used to\n",
    "generate the data. Keep in mind that due to regularization and noise,\n",
    "the learned values will not exactly equal the true ones, but they\n",
    "should be in the same ballpark. Which method (OLS or Ridge) gives the best results?\n"
   ]
  },
  {
   "cell_type": "code",
   "execution_count": 90,
   "id": "c72aa561",
   "metadata": {},
   "outputs": [
    {
     "name": "stdout",
     "output_type": "stream",
     "text": [
      "Optimal Parameters (Closed-form)\n",
      "Closed-form OLS coefficients:\n",
      " [[ 5.00905318e+00]\n",
      " [-3.00383337e+00]\n",
      " [-1.62718294e-02]\n",
      " [ 1.44819819e-01]\n",
      " [-7.16006510e-02]\n",
      " [-4.29656382e-02]\n",
      " [ 2.05558117e+00]\n",
      " [ 1.97583716e-03]\n",
      " [ 4.11922237e-02]\n",
      " [-5.10225177e-02]]\n",
      "Closed-form Ridge coefficients:\n",
      " [[ 5.00410898e+00]\n",
      " [-2.99968373e+00]\n",
      " [-1.63065915e-02]\n",
      " [ 1.45477818e-01]\n",
      " [-7.25435409e-02]\n",
      " [-4.37776623e-02]\n",
      " [ 2.05285140e+00]\n",
      " [ 2.26563823e-03]\n",
      " [ 4.02214213e-02]\n",
      " [-5.10893259e-02]]\n",
      "\n",
      "\n",
      "Difference between true value with noise OLS, Ridge:  0.4383162375780215 0.42895864891638424\n",
      "Difference between true value OLS without noise, Ridge:  2.706168622523819e-15 0.015904259027352978\n"
     ]
    }
   ],
   "source": [
    "lam = 0.1\n",
    "#Analytical Solution\n",
    "theta_closed_formOLS = np.linalg.inv(X.T @ X) @ X.T @ y\n",
    "theta_closed_formRidge = np.linalg.inv(X.T @ X + lam * np.identity(len(X.T))) @ X.T @ y\n",
    "\n",
    "theta_closed_formOLS_true = np.linalg.inv(X.T @ X) @ X.T @ y_true\n",
    "theta_closed_formRidge_true = np.linalg.inv(X.T @ X + lam * np.identity(len(X.T))) @ X.T @ y_true\n",
    "\n",
    "print(\"Optimal Parameters (Closed-form)\")\n",
    "print(\"Closed-form OLS coefficients:\\n\", theta_closed_formOLS)\n",
    "print(\"Closed-form Ridge coefficients:\\n\", theta_closed_formRidge)\n",
    "print(\"\\n\")\n",
    "print(\"Difference between true value with noise OLS, Ridge: \",np.abs(theta_closed_formOLS - theta_true).sum(), np.abs(theta_closed_formRidge - theta_true).sum())\n",
    "print(\"Difference between true value OLS without noise, Ridge: \",np.abs(theta_closed_formOLS_true - theta_true).sum(), np.abs(theta_closed_formRidge_true - theta_true).sum())"
   ]
  },
  {
   "cell_type": "markdown",
   "id": "ad3f52af",
   "metadata": {},
   "source": [
    "In the analytical case the Ridge seems to give the best values when we include noise but it is still very close, while if we exclude noise OLS gives the best results without a doubt. "
   ]
  },
  {
   "cell_type": "code",
   "execution_count": 95,
   "id": "b0d528d6",
   "metadata": {},
   "outputs": [
    {
     "name": "stdout",
     "output_type": "stream",
     "text": [
      "Gradient Descent OLS coefficients: [[ 5.00905252e+00]\n",
      " [-3.00382578e+00]\n",
      " [-1.62739389e-02]\n",
      " [ 1.44827775e-01]\n",
      " [-7.16050075e-02]\n",
      " [-4.29733199e-02]\n",
      " [ 2.05556653e+00]\n",
      " [ 1.97484293e-03]\n",
      " [ 4.11918375e-02]\n",
      " [-5.10178345e-02]]\n",
      "Gradient Descent Ridge coefficients: [[ 4.96007396e+00]\n",
      " [-2.96287251e+00]\n",
      " [-1.66154179e-02]\n",
      " [ 1.51238957e-01]\n",
      " [-8.08084651e-02]\n",
      " [-5.09123527e-02]\n",
      " [ 2.02862591e+00]\n",
      " [ 4.83525687e-03]\n",
      " [ 3.16594815e-02]\n",
      " [-5.16761120e-02]]\n",
      "\n",
      "\n",
      "Difference between true value with noise OLS, Ridge:  0.4383093883217313 0.4934254850344568\n",
      "Difference between true value OLS without noise, Ridge:  5.538304778910893e-05 0.15685855841264412\n"
     ]
    }
   ],
   "source": [
    "# Gradient descent parameters, learning rate eta first\n",
    "eta = 0.01\n",
    "lam = 0.01\n",
    "# Then number of iterations\n",
    "num_iters = 1000\n",
    "\n",
    "# Initialize weights for gradient descent\n",
    "theta_gdOLS = np.random.randn(10,1)\n",
    "theta_gdOLS_true = np.random.randn(10,1)\n",
    "theta_gdRidge = np.random.randn(10,1)\n",
    "theta_gdRidge_true = np.random.randn(10,1)\n",
    "\n",
    "# Gradient descent loop\n",
    "for t in range(num_iters):\n",
    "    # Compute gradients for OSL and Ridge\n",
    "    grad_OLS = Gradient_OLS(X, y, eta=eta,theta=theta_gdOLS)\n",
    "    grad_OLS_true = Gradient_OLS(X, y_true, eta=eta,theta=theta_gdOLS_true)\n",
    "    theta_gdOLS -= eta * grad_OLS\n",
    "    theta_gdOLS_true -= eta * grad_OLS_true\n",
    "    grad_Ridge= Gradient_Ridge(X, y, eta=eta, lambda_param=lam,theta=theta_gdRidge)\n",
    "    grad_Ridge_true= Gradient_Ridge(X, y_true, eta=eta, lambda_param=lam,theta=theta_gdRidge_true)\n",
    "    theta_gdRidge -= eta * grad_Ridge\n",
    "    theta_gdRidge_true -= eta * grad_Ridge_true\n",
    "\n",
    "# After the loop, theta contains the fitted coefficients\n",
    "\n",
    "print(\"Gradient Descent OLS coefficients:\", theta_gdOLS)\n",
    "print(\"Gradient Descent Ridge coefficients:\", theta_gdRidge)\n",
    "print(\"\\n\")\n",
    "print(\"Difference between true value with noise OLS, Ridge: \",np.abs(theta_gdOLS - theta_true).sum(), np.abs(theta_gdRidge - theta_true).sum())\n",
    "print(\"Difference between true value OLS without noise, Ridge: \",np.abs(theta_gdOLS_true - theta_true).sum(), np.abs(theta_gdRidge_true - theta_true).sum())"
   ]
  },
  {
   "cell_type": "markdown",
   "id": "3cc0f8d9",
   "metadata": {},
   "source": [
    "Which is equivalent to what we found in the analytical case, except there has been done a lot more computation and the solutions are still not as good yet. "
   ]
  }
 ],
 "metadata": {
  "kernelspec": {
   "display_name": ".venv",
   "language": "python",
   "name": "python3"
  },
  "language_info": {
   "codemirror_mode": {
    "name": "ipython",
    "version": 3
   },
   "file_extension": ".py",
   "mimetype": "text/x-python",
   "name": "python",
   "nbconvert_exporter": "python",
   "pygments_lexer": "ipython3",
   "version": "3.13.7"
  }
 },
 "nbformat": 4,
 "nbformat_minor": 5
}
