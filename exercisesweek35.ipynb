{
 "cells": [
  {
   "cell_type": "markdown",
   "id": "b4005770",
   "metadata": {},
   "source": [
    "# Exercises week 35\n",
    "\n",
    "## Deriving and Implementing Ordinary Least Squares"
   ]
  },
  {
   "cell_type": "markdown",
   "id": "2ca1b589",
   "metadata": {},
   "source": [
    "This week you will be deriving the analytical expressions for linear regression, building up the model from scratch. This will include taking several derivatives of products of vectors and matrices. Such derivatives are central to the optimization of many machine learning models. Although we will often use automatic differentiation in actual calculations, to be able to have analytical expressions is extremely helpful in case we have simpler derivatives as well as when we analyze various properties (like second derivatives) of the chosen cost functions.\n",
    "\n",
    "Vectors are always written as boldfaced lower case letters and matrices as upper case boldfaced letters. You will find useful the notes from week 35 on derivatives of vectors and matrices. See also the textbook of Faisal at al, chapter 5 and in particular sections 5.3-5.5 at <https://github.com/CompPhysics/MachineLearning/blob/master/doc/Textbooks/MathMLbook.pdf>"
   ]
  },
  {
   "cell_type": "markdown",
   "id": "41e92bf9",
   "metadata": {},
   "source": [
    "### Learning goals\n",
    "\n",
    "After completing these exercises, you will know how to\n",
    "- Take the derivatives of simple products between vectors and matrices\n",
    "- Implement OLS using the analytical expressions\n",
    "- Create a feature matrix from a set of data\n",
    "- Create a feature matrix for a polynomial model\n",
    "- Evaluate the MSE score of various model on training and test data, and comparing their performance\n",
    "\n",
    "### Deliverables\n",
    "\n",
    "Complete the following exercises while working in a jupyter notebook. Then, in canvas, include\n",
    "- The jupyter notebook with the exercises completed\n",
    "- An exported PDF of the notebook (https://code.visualstudio.com/docs/datascience/jupyter-notebooks#_export-your-jupyter-notebook)"
   ]
  },
  {
   "cell_type": "markdown",
   "id": "f7a9209d",
   "metadata": {},
   "source": [
    "## How to take derivatives of Matrix-Vector expressions"
   ]
  },
  {
   "cell_type": "markdown",
   "id": "45f3712e",
   "metadata": {},
   "source": [
    "In these exercises it is always useful to write out with summation indices the various quantities. Take also a look at the weekly slides from week 35 and the various examples included there.\n",
    "\n",
    "As an example, consider the function\n",
    "\n",
    "$$\n",
    "f(\\boldsymbol{x}) =\\boldsymbol{A}\\boldsymbol{x},\n",
    "$$\n",
    "\n",
    "which reads for a specific component $f_i$ (we define the matrix $\\boldsymbol{A}$ to have dimension $n\\times n$ and the vector $\\boldsymbol{x}$ to have length $n$)\n",
    "\n",
    "$$\n",
    "f_i =\\sum_{j=0}^{n-1}a_{ij}x_j,\n",
    "$$\n",
    "\n",
    "which leads to\n",
    "\n",
    "$$\n",
    "\\frac{\\partial f_i}{\\partial x_j}= a_{ij},\n",
    "$$\n",
    "\n",
    "and written out in terms of the vector $\\boldsymbol{x}$ we have\n",
    "\n",
    "$$\n",
    "\\frac{\\partial f(\\boldsymbol{x})}{\\partial \\boldsymbol{x}}= \\boldsymbol{A}.\n",
    "$$"
   ]
  },
  {
   "cell_type": "markdown",
   "id": "5fa8a4e6",
   "metadata": {},
   "source": [
    "## Exercise 1 - Finding the derivative of Matrix-Vector expressions"
   ]
  },
  {
   "cell_type": "markdown",
   "id": "df7a2270",
   "metadata": {},
   "source": [
    "**a)** Consider the expression\n",
    "\n",
    "$$\n",
    "\\frac{\\partial (\\boldsymbol{a}^T\\boldsymbol{x})}{\\partial \\boldsymbol{x}},\n",
    "$$\n",
    "\n",
    "Where $\\boldsymbol{a}$ and $\\boldsymbol{x}$ are column-vectors with length $n$.\n",
    "\n",
    "What is the *shape* of the expression we are taking the derivative of?\n",
    "\n",
    "What is the *shape* of the thing we are taking the derivative with respect to?\n",
    "\n",
    "What is the *shape* of the result of the expression?"
   ]
  },
  {
   "cell_type": "markdown",
   "id": "77aa80b2",
   "metadata": {},
   "source": [
    "**Answer:**\n",
    "\n",
    "Shape of $a^T x$ is 1-dimensional.\n",
    "\n",
    "$\\boldsymbol{x}$ is a n-dimensional vector.\n",
    "\n",
    "The resulting expression is a n-dimensional vector.\n",
    "\n",
    "- - -"
   ]
  },
  {
   "cell_type": "markdown",
   "id": "c0396734",
   "metadata": {},
   "source": [
    "**b)** Show that\n",
    "\n",
    "$$\n",
    "\\frac{\\partial (\\boldsymbol{a}^T\\boldsymbol{x})}{\\partial \\boldsymbol{x}} = \\boldsymbol{a}^T,\n",
    "$$"
   ]
  },
  {
   "cell_type": "markdown",
   "id": "0c6b01f4",
   "metadata": {},
   "source": [
    "**Answer**\n",
    "\n",
    "$$\n",
    "\\begin{align}\n",
    "\\frac{\\partial (\\boldsymbol{a}^T \\boldsymbol{x})}{\\partial x}  &= \\frac{\\partial (a_1 x_1 + a_2 x_2 + \\dots + a_n x_n)} {\\partial \\boldsymbol{x} } \\\\\n",
    " &= [a_1, a_2, \\dots, a_n] = \\boldsymbol{a}^T\n",
    "\\end{align}\n",
    "$$\n",
    "\n",
    "Where going from 1 to 2 is because the derivative in each position is with respect to $x_i$.\n",
    "- - - "
   ]
  },
  {
   "cell_type": "markdown",
   "id": "dc39d541",
   "metadata": {},
   "source": [
    "**c)** Show that\n",
    "\n",
    "$$\n",
    "\\frac{\\partial (\\boldsymbol{a}^T\\boldsymbol{A}\\boldsymbol{a})}{\\partial \\boldsymbol{a}} = \\boldsymbol{a}^T(\\boldsymbol{A}+\\boldsymbol{A}^T),\n",
    "$$"
   ]
  },
  {
   "cell_type": "markdown",
   "id": "61ad4fd3",
   "metadata": {},
   "source": [
    "**Answer**\n",
    "\n",
    "We have the following for the vector\n",
    "$$ \n",
    "(\\boldsymbol{A}\\boldsymbol{a})_i = \\sum_{j} A_{i,j} a_j\n",
    "$$ \n",
    "Then multiplying with the transpose this becomes\n",
    "$$\n",
    "a^T * \\boldsymbol{A}\\boldsymbol{a} = \\sum_i \\sum_j a_i * A_{i,j} a_j = \\sum_i \\sum_j a_i a_j * A_{i,j}\n",
    "$$\n",
    "Taking the derivative with regards to $a_k$ then becomes\n",
    "$$\n",
    "\\sum_i a_i * A_{i,k} + \\sum_j a_j * A_{k,j} = a^T (A + A^T)\n",
    "$$\n",
    "- - -"
   ]
  },
  {
   "cell_type": "markdown",
   "id": "498d13ec",
   "metadata": {},
   "source": [
    "## Exercise 2 - Deriving the expression for OLS"
   ]
  },
  {
   "cell_type": "markdown",
   "id": "f3f771de",
   "metadata": {},
   "source": [
    "The ordinary least squares method finds the parameters $\\boldsymbol{\\theta}$ which minimizes the squared error between our model $\\boldsymbol{X\\theta}$ and the true values $\\boldsymbol{y}$.\n",
    "\n",
    "To find the parameters $\\boldsymbol{\\theta}$ which minimizes this error, we take the derivative of the squared error expression with respect to $\\boldsymbol{\\theta}$, and set it equal to 0."
   ]
  },
  {
   "cell_type": "markdown",
   "id": "49690237",
   "metadata": {},
   "source": [
    "**a)** Very briefly explain why the approach above finds the parameters $\\boldsymbol{\\theta}$ which minimizes this error."
   ]
  },
  {
   "cell_type": "markdown",
   "id": "b7cccc9d",
   "metadata": {},
   "source": [
    "We typically write the squared error as\n",
    "\n",
    "$$\n",
    "\\vert\\vert\\boldsymbol{y} - \\boldsymbol{X\\theta}\\vert\\vert^2\n",
    "$$\n",
    "\n",
    "which we can rewrite in matrix-vector form as\n",
    "\n",
    "$$\n",
    "\\left(\\boldsymbol{y}-\\boldsymbol{X}\\boldsymbol{\\theta}\\right)^T\\left(\\boldsymbol{y}-\\boldsymbol{X}\\boldsymbol{\\theta}\\right)\n",
    "$$"
   ]
  },
  {
   "cell_type": "markdown",
   "id": "15623075",
   "metadata": {},
   "source": [
    "**Answer**:\n",
    "\n",
    "By taking the \"point\" where the growth of the function is equal to 0 we are finding a minimum of the loss between the predicted and the actual data. I.e. the best fit according to our data.\n",
    "- - -"
   ]
  },
  {
   "cell_type": "markdown",
   "id": "8fbecf74",
   "metadata": {},
   "source": [
    "**b)** If $\\boldsymbol{X}$ is invertible, what is the expression for the optimal parameters $\\boldsymbol{\\theta}$? (**Hint:** Don't compute any derivatives, but solve $\\boldsymbol{X\\theta}=\\boldsymbol{y}$ for $\\boldsymbol{\\theta}$)"
   ]
  },
  {
   "cell_type": "markdown",
   "id": "e60a86e9",
   "metadata": {},
   "source": [
    "**Answer**:\n",
    "\n",
    "If $\\boldsymbol{X}$ is invertible that implies that $\\boldsymbol{X}^{-1}$ exsist so we can multiply it on the left for both sides of the equation:\n",
    "\n",
    "$$\n",
    "\\begin{align*}\n",
    "\\boldsymbol{X}^{-1} \\boldsymbol{X} \\theta =& \\boldsymbol{X}^{-1} \\boldsymbol{y} \\\\\n",
    "\\theta =& \\boldsymbol{X}^{-1} \\boldsymbol{y}\n",
    "\\end{align*}\n",
    "$$\n",
    "The last equality is the expression for the optimal parameters.\n",
    "- - -\n"
   ]
  },
  {
   "cell_type": "markdown",
   "id": "f37af8f0",
   "metadata": {},
   "source": [
    "**c)** Show that\n",
    "\n",
    "$$\n",
    "\\frac{\\partial \\left(\\boldsymbol{x}-\\boldsymbol{A}\\boldsymbol{s}\\right)^T\\left(\\boldsymbol{x}-\\boldsymbol{A}\\boldsymbol{s}\\right)}{\\partial \\boldsymbol{s}} = -2\\left(\\boldsymbol{x}-\\boldsymbol{A}\\boldsymbol{s}\\right)^T\\boldsymbol{A},\n",
    "$$"
   ]
  },
  {
   "cell_type": "markdown",
   "id": "8d377fe5",
   "metadata": {},
   "source": [
    "**Answer**:\n",
    "\n",
    "Multiplying the parenthesis together we get\n",
    "$$\n",
    "(x^T - (As)^T)(x - As) = x^T x - x^T As - (As)^T x + (As)^T As\n",
    "$$\n",
    "\n",
    "Now we need two results to do the derivation quickly, the first result is the equality given by the transpose of a scaler being itself:\n",
    "\n",
    "$$ x^T A s = (x^T A s )^T = s^T A^T x$$\n",
    "\n",
    "Secondly the result from exercise 1.c above.\n",
    "$$\n",
    "\\frac{\\partial (\\boldsymbol{a}^T\\boldsymbol{A}\\boldsymbol{a})}{\\partial \\boldsymbol{a}} = \\boldsymbol{a}^T(\\boldsymbol{A}+\\boldsymbol{A}^T)\n",
    "$$\n",
    "which becomes the following\n",
    "$$\n",
    "\\frac{\\partial (\\boldsymbol{a}^T(\\boldsymbol{A} \\boldsymbol{A^T})\\boldsymbol{a})}{\\partial \\boldsymbol{a}} = 2 \\boldsymbol{a}^T(\\boldsymbol{A}^T \\boldsymbol{A}),\n",
    "$$\n",
    "since the transpose of a matrix commutes with itself.\n",
    "\n",
    "\n",
    "Taking the derivative with respect to $s$ we have:\n",
    "$$\n",
    "\\frac{\\partial (x^T x - 2 x^T As + s^T A^T A s) } {\\partial s} = 0 - 2 x^T A + 2 s^T A^T A = -2(x-As)^T A\n",
    "$$\n",
    "\n",
    "\n",
    "- - -"
   ]
  },
  {
   "cell_type": "markdown",
   "id": "869fca4d",
   "metadata": {},
   "source": [
    "**d)** Using the expression from **c)**, but substituting back in $\\boldsymbol{\\theta}$, $\\boldsymbol{y}$ and $\\boldsymbol{X}$, find the expression for the optimal parameters $\\boldsymbol{\\theta}$ in the case that $\\boldsymbol{X}$ is not invertible, but $\\boldsymbol{X^T X}$ is, which is most often the case.\n",
    "\n",
    "$$\n",
    "\\boldsymbol{\\hat{\\theta}_{OLS}} = ...\n",
    "$$"
   ]
  },
  {
   "cell_type": "markdown",
   "id": "9b4dba0c",
   "metadata": {},
   "source": [
    "**Answer**\n",
    "\n",
    "The optimal solution is when the following is true:\n",
    "$$\n",
    "\\begin{aligned}\n",
    "0 &= -2 (\\boldsymbol{y} - \\boldsymbol{X} \\boldsymbol{\\theta})^T \\boldsymbol{X} \\\\\n",
    "0 &= y^T X - \\theta^T X^T X \\\\\n",
    "\\theta^T &= y^T X (X^T X) ^{-1}\\\\\n",
    "\\theta &= (X^T X)^{-1} X^T y\n",
    "\\end{aligned}\n",
    "$$\n",
    "\n",
    "- - -"
   ]
  },
  {
   "cell_type": "markdown",
   "id": "57ca3d74",
   "metadata": {},
   "source": [
    "## Exercise 3 - Creating feature matrix and implementing OLS using the analytical expression"
   ]
  },
  {
   "cell_type": "markdown",
   "id": "5dc179f7",
   "metadata": {},
   "source": [
    "With the expression for $\\boldsymbol{\\hat{\\theta}_{OLS}}$, you now have what you need to implement OLS regression with your input data and target data $\\boldsymbol{y}$. But before you can do that, you need to set up you input data as a feature matrix $\\boldsymbol{X}$.\n",
    "\n",
    "In a feature matrix, each row is a datapoint and each column is a feature of that data. If you want to predict someones spending based on their income and number of children, for instance, you would create a row for each person in your dataset, with the montly income and the number of children as columns.\n",
    "\n",
    "We typically also include an intercept in our models. The intercept is a value that is added to our prediction regardless of the value of the other features. The intercept tries to account for constant effects in our data that are not dependant on anything else. In our current example, the intercept could account for living expenses which are typical regardless of income or childcare expenses.\n",
    "\n",
    "We calculate the optimal intercept by including a feature with the constant value of 1 in our model, which is then multplied by some parameter $\\theta_0$ from the OLS method into the optimal intercept value (which will be $\\theta_0$). In practice, we include the intercept in our model by adding a column of ones to the start of our feature matrix."
   ]
  },
  {
   "cell_type": "code",
   "execution_count": 2,
   "id": "e5ff2a69",
   "metadata": {},
   "outputs": [],
   "source": [
    "import numpy as np"
   ]
  },
  {
   "cell_type": "code",
   "execution_count": 3,
   "id": "a3cf2792",
   "metadata": {},
   "outputs": [],
   "source": [
    "n = 20\n",
    "income = np.array([116., 161., 167., 118., 172., 163., 179., 173., 162., 116., 101., 176., 178., 172., 143., 135., 160., 101., 149., 125.])\n",
    "children = np.array([5, 3, 0, 4, 5, 3, 0, 4, 4, 3, 3, 5, 1, 0, 2, 3, 2, 1, 5, 4])\n",
    "spending = np.array([152., 141., 102., 136., 161., 129.,  99., 159., 160., 107.,  98., 164., 121.,  93., 112., 127., 117.,  69., 156., 131.])\n"
   ]
  },
  {
   "cell_type": "markdown",
   "id": "5da61481",
   "metadata": {},
   "source": [
    "**a)** Create a feature matrix $\\boldsymbol{X}$ for the features income and children, including an intercept column of ones at the start."
   ]
  },
  {
   "cell_type": "code",
   "execution_count": 4,
   "id": "5ad87a65",
   "metadata": {},
   "outputs": [],
   "source": [
    "X = np.zeros((n, 3))\n",
    "X[:, 0] = 1\n",
    "X[:, 1] = income\n",
    "X[:, 2] = children"
   ]
  },
  {
   "cell_type": "markdown",
   "id": "e0ddfac2",
   "metadata": {},
   "source": [
    "**b)** Use the expression from **3d)** to find the optimal parameters $\\boldsymbol{\\hat{\\beta}_{OLS}}$ for predicting spending based on these features. Create a function for this operation, as you are going to need to use it a lot."
   ]
  },
  {
   "cell_type": "code",
   "execution_count": 6,
   "id": "8f3f68aa",
   "metadata": {},
   "outputs": [],
   "source": [
    "def OLS_parameters(X, y):\n",
    "    return np.linalg.inv(X.T @ X) @ X.T @ y\n",
    "\n",
    "#beta = OLS_parameters(X, y)"
   ]
  },
  {
   "cell_type": "markdown",
   "id": "0cb6da80",
   "metadata": {},
   "source": [
    "## Exercise 4 - Fitting a polynomial"
   ]
  },
  {
   "cell_type": "markdown",
   "id": "71015064",
   "metadata": {},
   "source": [
    "In this course, we typically do linear regression using polynomials, though in real world applications it is also very common to make linear models based on measured features like you did in the previous exercise.\n",
    "\n",
    "When fitting a polynomial with linear regression, we make each polynomial degree($x, x^2, x^3, ..., x^p$) its own feature."
   ]
  },
  {
   "cell_type": "code",
   "execution_count": 35,
   "id": "d7476c84",
   "metadata": {},
   "outputs": [],
   "source": [
    "n = 100\n",
    "x = np.linspace(-3, 3, n)\n",
    "y = np.exp(-x**2) + 1.5 * np.exp(-(x-2)**2) + np.random.normal(0, 0.1)"
   ]
  },
  {
   "cell_type": "markdown",
   "id": "8321451b",
   "metadata": {},
   "source": [
    "**a)** Create a feature matrix $\\boldsymbol{X}$ for the features $x, x^2, x^3, x^4, x^5$, including an intercept column of ones at the start. Make this into a function, as you will do this a lot over the next weeks."
   ]
  },
  {
   "cell_type": "code",
   "execution_count": 12,
   "id": "91496e40",
   "metadata": {},
   "outputs": [],
   "source": [
    "def polynomial_features(x, p):\n",
    "    n = len(x)\n",
    "    X = np.zeros((n, p + 1))\n",
    "    X[:, 0] = 1\n",
    "    for i in range(1, p + 1):\n",
    "        X[:, i] = x**i \n",
    "    # could this be a loop? yes\n",
    "    return X\n",
    "\n",
    "X = polynomial_features(x, 5)"
   ]
  },
  {
   "cell_type": "markdown",
   "id": "b84b1e31",
   "metadata": {},
   "source": [
    "**b)** Use the expression from **3d)** to find the optimal parameters $\\boldsymbol{\\hat{\\beta}_{OLS}}$ for predicting $\\boldsymbol{y}$ based on these features. If you have done everything right so far, this code will not need changing."
   ]
  },
  {
   "cell_type": "code",
   "execution_count": 13,
   "id": "034f502c",
   "metadata": {},
   "outputs": [],
   "source": [
    "beta = OLS_parameters(X, y)"
   ]
  },
  {
   "cell_type": "markdown",
   "id": "d703f788",
   "metadata": {},
   "source": [
    "**c)** Like in exercise 4 last week, split your feature matrix and target data into a training split and test split."
   ]
  },
  {
   "cell_type": "code",
   "execution_count": 14,
   "id": "29171358",
   "metadata": {},
   "outputs": [],
   "source": [
    "from sklearn.model_selection import train_test_split\n",
    "\n",
    "X_train, X_test, y_train, y_test = train_test_split(X, y, test_size=0.2)"
   ]
  },
  {
   "cell_type": "markdown",
   "id": "a0e3509f",
   "metadata": {},
   "source": [
    "**d)** Train your model on the training data(find the parameters which best fit) and compute the MSE on both the training and test data."
   ]
  },
  {
   "cell_type": "code",
   "execution_count": 21,
   "id": "1e346f4c",
   "metadata": {},
   "outputs": [
    {
     "name": "stdout",
     "output_type": "stream",
     "text": [
      "Mean Squared Error:0.01412868953395444, Linear Regression: 0.01412868953395364\n"
     ]
    }
   ],
   "source": [
    "from sklearn.linear_model import LinearRegression\n",
    "from sklearn.metrics import mean_squared_error\n",
    "\n",
    "\n",
    "Test_LR = LinearRegression().fit(X_train, y_train).predict(X_test)\n",
    "\n",
    "beta = OLS_parameters(X_train, y_train)\n",
    "y_pred = X_test @ beta\n",
    "mse = mean_squared_error(y_test, y_pred)\n",
    "mse_LR = mean_squared_error(y_test, Test_LR)\n",
    "\n",
    "print(\"Mean Squared Error:\" + str(mse) + \", Linear Regression: \" + str(mse_LR))\n"
   ]
  },
  {
   "cell_type": "markdown",
   "id": "7e431889",
   "metadata": {},
   "source": [
    "**e)** Do the same for each polynomial degree from 2 to 10, and plot the MSE on both the training and test data as a function of polynomial degree. The aim is to reproduce Figure 2.11 of [Hastie et al](https://github.com/CompPhysics/MLErasmus/blob/master/doc/Textbooks/elementsstat.pdf). Feel free to read the discussions leading to figure 2.11 of Hastie et al. "
   ]
  },
  {
   "cell_type": "code",
   "execution_count": 30,
   "id": "ceb57457",
   "metadata": {},
   "outputs": [
    {
     "data": {
      "image/png": "[encoded data removed]",
      "text/plain": [
       "<Figure size 640x480 with 1 Axes>"
      ]
     },
     "metadata": {},
     "output_type": "display_data"
    }
   ],
   "source": [
    "import matplotlib.pyplot as plt\n",
    "\n",
    "plot_predict = []\n",
    "plot_train = []\n",
    "degrees = np.arange(2, 11)\n",
    "\n",
    "for degree in degrees:\n",
    "    X = polynomial_features(x, degree)\n",
    "    X_train, X_test, y_train, y_test = train_test_split(X, y, test_size=0.2)\n",
    "    beta = OLS_parameters(X_train, y_train)\n",
    "    y_pred = X_test @ beta\n",
    "    y_train_pred = X_train @ beta\n",
    "    mse_predict = mean_squared_error(y_test, y_pred)\n",
    "    mse_train = mean_squared_error(y_train, y_train_pred)\n",
    "    plot_predict.append(mse_predict)\n",
    "    plot_train.append(mse_train)\n",
    "\n",
    "plt.plot(degrees, plot_predict, label=\"Predict\")\n",
    "plt.plot(degrees, plot_train, label=\"Train\")\n",
    "plt.xlabel(\"Degree\")\n",
    "plt.legend()\n",
    "plt.show()\n"
   ]
  },
  {
   "cell_type": "markdown",
   "id": "5e5b5954",
   "metadata": {},
   "source": [
    "**f)** Interpret the graph. Why do the lines move as they do? What does it tell us about model performance and generalizability?"
   ]
  },
  {
   "cell_type": "markdown",
   "id": "ad2acfb9",
   "metadata": {},
   "source": [
    "\n",
    "\n",
    "The graph will necessarily becomes better the more variables we have to explain the differences in the data, though it will also be more likely to overfitt then.\n",
    "The data we are seeing here seems to say that the model hasn't overfitted to the data yet.\n",
    "Meaning we are gaining some extra explainability through the extra degrees.\n",
    "And we might see that with further analysis that an exponential model would be better.\n",
    "\n",
    "We also see that, since we have few datapoints here, there are times where the predictions on the test set are better than the data it has been minimized on. Though that becomes less likely the more degrees of fitting we have.  "
   ]
  },
  {
   "cell_type": "markdown",
   "id": "5994f0c5",
   "metadata": {},
   "source": [
    "## Exercise 5 - Comparing your code with sklearn"
   ]
  },
  {
   "cell_type": "markdown",
   "id": "8f595b7a",
   "metadata": {},
   "source": [
    "When implementing different algorithms for the first time, it can be helpful to double check your results with established implementations before you go on to add more complexity."
   ]
  },
  {
   "cell_type": "markdown",
   "id": "8ab310c1",
   "metadata": {},
   "source": [
    "**a)** Make sure your `polynomial_features` function creates the same feature matrix as sklearns PolynomialFeatures.\n",
    "\n",
    "(https://scikit-learn.org/stable/modules/generated/sklearn.preprocessing.PolynomialFeatures.html)"
   ]
  },
  {
   "cell_type": "code",
   "execution_count": 42,
   "id": "85b964d1",
   "metadata": {},
   "outputs": [
    {
     "name": "stdout",
     "output_type": "stream",
     "text": [
      "[[ 0.00000000e+00  0.00000000e+00  0.00000000e+00  0.00000000e+00\n",
      "   0.00000000e+00  0.00000000e+00  0.00000000e+00  0.00000000e+00\n",
      "   0.00000000e+00  0.00000000e+00  9.09494702e-13]\n",
      " [ 0.00000000e+00  0.00000000e+00  0.00000000e+00  0.00000000e+00\n",
      "   0.00000000e+00  0.00000000e+00  0.00000000e+00  5.68434189e-14\n",
      "  -2.27373675e-13  4.54747351e-13 -9.09494702e-13]\n",
      " [ 0.00000000e+00  0.00000000e+00  0.00000000e+00  1.77635684e-15\n",
      "  -3.55271368e-15  7.10542736e-15 -2.84217094e-14  5.68434189e-14\n",
      "  -1.13686838e-13  2.27373675e-13 -4.54747351e-13]\n",
      " [ 0.00000000e+00  0.00000000e+00  0.00000000e+00  1.77635684e-15\n",
      "  -3.55271368e-15  0.00000000e+00  0.00000000e+00  0.00000000e+00\n",
      "   0.00000000e+00  0.00000000e+00  0.00000000e+00]\n",
      " [ 0.00000000e+00  0.00000000e+00  0.00000000e+00  1.77635684e-15\n",
      "  -3.55271368e-15  7.10542736e-15 -1.42108547e-14  2.84217094e-14\n",
      "  -5.68434189e-14  1.13686838e-13 -4.54747351e-13]]\n"
     ]
    },
    {
     "data": {
      "text/plain": [
       "True"
      ]
     },
     "execution_count": 42,
     "metadata": {},
     "output_type": "execute_result"
    }
   ],
   "source": [
    "from sklearn.preprocessing import PolynomialFeatures\n",
    "\n",
    "poly_library = PolynomialFeatures(degree=10).fit_transform(x.reshape(-1, 1))\n",
    "poly_personal = polynomial_features(x, 10)\n",
    "\n",
    "DifferenceFunctions = poly_library - poly_personal\n",
    "\n",
    "print(DifferenceFunctions[10:15,:])\n",
    "\n",
    "\n",
    "np.allclose(poly_library, poly_personal)\n"
   ]
  },
  {
   "cell_type": "markdown",
   "id": "73c32c52",
   "metadata": {},
   "source": [
    "**b)** Make sure your `OLS_parameters` function computes the same parameters as sklearns LinearRegression with fit_intercept set to False, since the intercept is included in the feature matrix. Use `your_model_object.coef_` to extract the computed parameters.\n",
    "\n",
    "(https://scikit-learn.org/stable/modules/generated/sklearn.linear_model.LinearRegression.html)"
   ]
  },
  {
   "cell_type": "code",
   "execution_count": 49,
   "id": "35b04126",
   "metadata": {},
   "outputs": [
    {
     "name": "stdout",
     "output_type": "stream",
     "text": [
      "True\n",
      "[-2.12261320e-11 -9.88037430e-12  1.09480758e-10  1.13631327e-11\n",
      " -1.05816189e-10 -5.33967315e-12  3.42254419e-11  9.15334648e-13\n",
      " -4.46322666e-12 -5.01712387e-14  2.02896077e-13]\n",
      "[ 1.01394266e+00  8.32149127e-02 -7.07281919e-01  2.55177571e-01\n",
      "  4.31291715e-01 -6.41034245e-02 -1.03235514e-01  5.15509395e-03\n",
      "  1.05498430e-02 -1.29940953e-04 -3.94292754e-04]\n",
      "[ 1.01394266e+00  8.32149127e-02 -7.07281919e-01  2.55177571e-01\n",
      "  4.31291716e-01 -6.41034245e-02 -1.03235514e-01  5.15509395e-03\n",
      "  1.05498430e-02 -1.29940953e-04 -3.94292754e-04]\n"
     ]
    }
   ],
   "source": [
    "beta_peronal = OLS_parameters(X_train, y_train)\n",
    "\n",
    "beta_library = LinearRegression(fit_intercept=False).fit(X_train, y_train).coef_\n",
    "\n",
    "print(np.allclose(beta_peronal, beta_library))\n",
    "\n",
    "DifferenceFunctions = beta_peronal- beta_library\n",
    "\n",
    "print(DifferenceFunctions)\n",
    "\n",
    "print(beta_peronal)\n",
    "print(beta_library)"
   ]
  },
  {
   "cell_type": "code",
   "execution_count": null,
   "id": "3cf1f01f",
   "metadata": {},
   "outputs": [],
   "source": []
  }
 ],
 "metadata": {
  "kernelspec": {
   "display_name": ".venv",
   "language": "python",
   "name": "python3"
  },
  "language_info": {
   "codemirror_mode": {
    "name": "ipython",
    "version": 3
   },
   "file_extension": ".py",
   "mimetype": "text/x-python",
   "name": "python",
   "nbconvert_exporter": "python",
   "pygments_lexer": "ipython3",
   "version": "3.13.7"
  }
 },
 "nbformat": 4,
 "nbformat_minor": 5
}
