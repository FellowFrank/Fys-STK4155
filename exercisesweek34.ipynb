{
 "cells": [
  {
   "cell_type": "markdown",
   "id": "232d1306",
   "metadata": {},
   "source": [
    "# Exercises week 34\n",
    "\n",
    "## Coding Setup and Linear Regression"
   ]
  },
  {
   "cell_type": "markdown",
   "id": "9b66a351",
   "metadata": {},
   "source": [
    "Welcome to FYS-STK3155/4155!\n",
    "\n",
    "In this first week will focus on getting you set up with the programs you are going to be using throughout this course. We expect that many of you will encounter some trouble with setting these programs up, as they can be extremely finnicky and prone to not working the same on all machines, so we strongly encourage you to not get discouraged, and to show up to the group-sessions where we can help you along. The group sessions are also the best place to find group partners for the projects and to be challenged on your understanding of the material, which are both essential to doing well in this course. We strongly encourage you to form groups of 2-3 participants. \n",
    "\n",
    "If you are unable to complete this week's exercises, don't worry, this will likely be the most frustrating week for many of you. You have time to get back on track next week, especially if you come to the group-sessions! Note also that this week's set of exercises does not count for the additional score. The deadline for the weekly exercises is set to Fridays, at midnight."
   ]
  },
  {
   "cell_type": "markdown",
   "id": "36d8750b",
   "metadata": {},
   "source": [
    "### Learning goals\n",
    "\n",
    "After completing these exercises, you will know how to\n",
    "\n",
    "- Create and use a Github repository\n",
    "- Set up and use a virtual environment in Python\n",
    "- Fit an OLS model to data using scikit-learn\n",
    "- Fit a model on training data and evaluate it on test data\n",
    "\n",
    "### Deliverables\n",
    "\n",
    "Complete the following exercises while working in a jupyter notebook. Exercises 1,2 and 3 require no writing in the notebook. Then, in canvas, include\n",
    "- The jupyter notebook with the exercises completed\n",
    "- An exported PDF of the notebook (https://code.visualstudio.com/docs/datascience/jupyter-notebooks#_export-your-jupyter-notebook)\n",
    "- Optional: A link to your github repository, which must be set to public, include the notebook file, a README file, requirements file and gitignore file.\n",
    "\n",
    "We require you to deliver a jupyter notebook so that we can evaluate the results of your code without needing to download and run the code of every student, as well as to teach you to use this useful tool."
   ]
  },
  {
   "cell_type": "markdown",
   "id": "2a9c7ef8",
   "metadata": {},
   "source": [
    "## Exercise 1 - Github Setup\n"
   ]
  },
  {
   "cell_type": "markdown",
   "id": "1498aed1",
   "metadata": {},
   "source": [
    "In this course, we require you to pay extra mind to the reproducibility of your results and the shareability of your code. The first step toward these goals is using a version control system like git and online repository like Github.\n",
    "\n",
    "**a)** Download git if you don't already have it on your machine, check with the terminal command ´git --version´ (https://git-scm.com/downloads).\n",
    "\n",
    "**b)** Create a Github account(https://github.com/), or log in to github with your UiO account (https://github.uio.no/login).\n",
    "\n",
    "**c)** Learn the basics of opening the terminal and navigating folders on your operating system. Things to learn: Opening a terminal, opening a terminal in a specific folder, listing the contents of the current folder, navigating into a folder, navigating out of a folder.\n",
    "\n",
    "**d)** Download the Github CLI tool and run ´gh auth login´ in your terminal to authenticate your local machine for some of the later steps. (https://github.com/cli/cli#installation). You might need to change file permissions to make it work, ask us or ChatGPT for help with these issues.\n",
    "\n",
    "**e)**  As an alternative to the above terminal based instructions, you could install GitHub Desktop (see https://desktop.github.com/download/) or if you prefer GitLab, GitLab desktop (see https://about.gitlab.com/install/). This sets up all communications between your PC/Laptop and the repository. This allows you to combine exercises 1 and 2 in an easy way if you don't want to use terminarl. Keep in mind that these GUIs (graphical user interfaces) are not text editors."
   ]
  },
  {
   "cell_type": "markdown",
   "id": "c56fbefa",
   "metadata": {},
   "source": [
    "## Exercise 2 - Setting up a Github repository\n"
   ]
  },
  {
   "cell_type": "markdown",
   "id": "fb9b8acd",
   "metadata": {
    "vscode": {
     "languageId": "plaintext"
    }
   },
   "source": [
    "**a)** Create an empty repository for your coursework in this course in your browser at github.com (or uio github).\n",
    "\n",
    "**b)** Open a terminal in the location you want to create your local folder for this repository, like your desktop.\n",
    "\n",
    "**c)** Clone the repository to your laptop using the terminal command ´gh repo clone username/repository-name´. This creates a folder with the same name as the repository. Moving it or renaming it might require some extra steps.\n",
    "\n",
    "**d)** Download this jupyter notebook. Add the notebook to the local folder.\n",
    "\n",
    "**e)** Run the ´git add .´ command command in a terminal opened in the local folder to stage the current changes in the folder to be commited to the version control history. Run ´git status´ to see the staged files.\n",
    "\n",
    "**f)** Run the ´git commit -m \"Adding first weekly assignment file\"´ command to commit the staged changes to the version control history. Run ´git status´ to see that no files are staged.\n",
    "\n",
    "**g)** Run the ´git push\" command to upload the commited changes to the remote repository on Github.\n",
    "\n",
    "**h)** Add a file called README.txt to the repository at Github.com. Don't do this in your local folder. Add a suitable title for your repository and some inforomation to the file.\n",
    "\n",
    "**i)** Run the ´git fetch origin´ command to fetch the latest remote changes to your repository.\n",
    "\n",
    "**j)** Run the ´git pull´ command to download and update files to match the remote changes.\n"
   ]
  },
  {
   "cell_type": "markdown",
   "id": "f84d0db6",
   "metadata": {},
   "source": [
    "## Exercise 3 - Setting up a Python virtual environment\n"
   ]
  },
  {
   "cell_type": "markdown",
   "id": "b5a4818a",
   "metadata": {},
   "source": [
    "Following the themes from the previous exercises, another way of improving the reproducibility of your results and shareability of your code is having a good handle on which python packages you are using.\n",
    "\n",
    "There are many ways to manage your packages in Python, and you are free to use any approach you want, but in this course we encourage you to use something called a virtual environment. A virtual environemnt is a folder in your project which contains a Python runtime executable as well as all the packages you are using in the current project. In this way, each of your projects has its required set of packages installed in the same folder, so that if anything goes wrong while managing your packages it only affects the one project, and if multiple projects require different versions of the same package, you don't need to worry about messing up old projects. Also, it's easy to just delete the folder and start over if anything goes wrong.\n",
    "\n",
    "Virtual environments are typically created, activated, managed and updated using terminal commands, but for now we recommend that you let for example VS Code (a popular cross-paltform package) handle it for you to make the coding experience much easier. If you are familiar with another approach for virtual environments that works for you, feel free to keep doing it that way.\n"
   ]
  },
  {
   "cell_type": "markdown",
   "id": "0f6de364",
   "metadata": {},
   "source": [
    "**a)** Open this notebook in VS Code (https://code.visualstudio.com/Download). Download the Python and Jupyter extensions.\n",
    "\n",
    "**b)** Press ´Cmd + Shift + P´, then search and run ´Python: Create Environment...´\n",
    "\n",
    "**c)** Select ´Venv´\n",
    "\n",
    "**d)** Choose the most up-to-date version of Python your have installed.\n",
    "\n",
    "**e)** Press ´Cmd + Shift + P´, then search and run ´Python: Select Interpreter´\n",
    "\n",
    "**f)** Selevet the (.venv) option you just created.\n",
    "\n",
    "**g)** Open a terminal in VS Code, the venv name should be visible at the beginning of the line. Run `pip list` to see that there are no packages install in the environment.\n",
    "\n",
    "**h)** In this terminal, run `pip install matplotlib numpy scikit-learn`. This will install the listed packages.\n",
    "\n",
    "**i)** To make these installations reproducible, which is important for reproducing results and sharing your code, run ´pip freeze > requirements.txt´ to create the file requirements.txt with all your dependencies.\n",
    "\n",
    "Now, anyone who wants to recreate your package setup can download your requirements.txt file and run ´pip install -r requirements.txt´ to install the correct packages and versions. To keep the requirements.txt file up to date with your environment, you will need to re-run the freeze command whenever you install a new package.\n",
    "\n",
    "**j)** Create a .gitignore file at the root of your project folder, and add the line ´.venv´ to it. This way, you won't try to upload a copy of all your python packages when you regularly push your changes to Github. Ignored files should not show up when you run ´git status´, and are not staged when running ´git add .´, try it!"
   ]
  },
  {
   "cell_type": "markdown",
   "id": "5d184ab1",
   "metadata": {},
   "source": [
    "## Exercise 3 - Fitting an OLS model to data\n"
   ]
  },
  {
   "cell_type": "markdown",
   "id": "d19ebd67",
   "metadata": {},
   "source": [
    "Great job on getting through all of that! Now it is time to do some actual machine learning!\n",
    "\n",
    "**a)** Complete the code below so that you fit a second order polynomial to the data. You will need to look up some scikit-learn documentation online (look at the imported functions for hints).\n",
    "\n",
    "**b)** Compute the mean square error for the line model and for the second degree polynomial model."
   ]
  },
  {
   "cell_type": "code",
   "execution_count": 1,
   "id": "b58fb9bf",
   "metadata": {},
   "outputs": [],
   "source": [
    "import numpy as np\n",
    "import matplotlib.pyplot as plt\n",
    "from sklearn.preprocessing import PolynomialFeatures # use the fit_transform method of the created object!\n",
    "from sklearn.linear_model import LinearRegression\n",
    "from sklearn.metrics import mean_squared_error"
   ]
  },
  {
   "cell_type": "code",
   "execution_count": 5,
   "id": "0208e9ca",
   "metadata": {},
   "outputs": [
    {
     "data": {
      "image/png": "[encoded data removed]",
      "text/plain": [
       "<Figure size 640x480 with 1 Axes>"
      ]
     },
     "metadata": {},
     "output_type": "display_data"
    },
    {
     "data": {
      "image/png": "[encoded data removed]",
      "text/plain": [
       "<Figure size 640x480 with 1 Axes>"
      ]
     },
     "metadata": {},
     "output_type": "display_data"
    }
   ],
   "source": [
    "n = 100\n",
    "x = np.random.rand(n, 1)\n",
    "y = 2.0 + 5 * x**2 + 0.1 * np.random.randn(n, 1)\n",
    "\n",
    "line_model = LinearRegression().fit(x, y)\n",
    "line_predict = line_model.predict(x)\n",
    "line_mse = mean_squared_error(y, line_predict)\n",
    "\n",
    "poly_features = PolynomialFeatures(degree=2).fit_transform(x)\n",
    "poly_model = LinearRegression().fit(poly_features, y)\n",
    "poly_predict = poly_model.predict(poly_features)\n",
    "poly_mse = mean_squared_error(y, poly_predict)\n",
    "\n",
    "plt.scatter(x, y, label = \"Data\")\n",
    "plt.scatter(x, line_predict, label = \"Line model\")\n",
    "plt.legend()\n",
    "plt.show()\n",
    "\n",
    "plt.scatter(x, y, label = \"Data\")\n",
    "plt.scatter(x, poly_predict, label = \"Second Order Polynomial model\")\n",
    "plt.legend()\n",
    "plt.show()"
   ]
  },
  {
   "cell_type": "markdown",
   "id": "248d8931",
   "metadata": {},
   "source": [
    "## Exercise 4 - The train-test split\n"
   ]
  },
  {
   "cell_type": "markdown",
   "id": "1efd3376",
   "metadata": {},
   "source": [
    "Hopefully your model fit the data quite well, but to know how well the model actually generalizes to unseen data, which is most often what we care about, we need to split our data into training and testing data. "
   ]
  },
  {
   "cell_type": "code",
   "execution_count": 6,
   "id": "0f8d75fb",
   "metadata": {},
   "outputs": [],
   "source": [
    "from sklearn.model_selection import train_test_split"
   ]
  },
  {
   "cell_type": "markdown",
   "id": "edb213fc",
   "metadata": {},
   "source": [
    "**a)** Complete the code below so that the polynomial features and the targets y get split into training and test data.\n",
    "\n",
    "**b)** What is the shape of X_test?\n",
    "\n",
    "**c)** Fit your model to X_train\n",
    "\n",
    "**d)** Compute the MSE when your model predicts on the training data and on the testing data, using y_train and y_test as targets for the two cases.\n",
    "\n",
    "**e)** Why do we not fit the model to X_test?"
   ]
  },
  {
   "cell_type": "code",
   "execution_count": 17,
   "id": "a03e0388",
   "metadata": {},
   "outputs": [
    {
     "name": "stdout",
     "output_type": "stream",
     "text": [
      "Shape of X.Test: (20, 3)\n",
      "Shape of y.Test: (20, 1)\n",
      "Mean Squared Error on test data: 0.0111030570760073\n",
      "We do not train on the test data, so that these datapoints are independent from the model. Because we can then test to see if the model has overfitted on the training data or not.\n"
     ]
    }
   ],
   "source": [
    "polynomial_features = PolynomialFeatures(degree=2).fit_transform(x)\n",
    "\n",
    "\n",
    "X_train, X_test, y_train, y_test = train_test_split(polynomial_features, y, test_size=0.2, random_state=42)\n",
    "\n",
    "print(\"Shape of X.Test: \" + str(X_test.shape))\n",
    "print(\"Shape of y.Test: \" + str(y_test.shape))\n",
    "\n",
    "line_model = LinearRegression().fit(X_train, y_train)\n",
    "line_predict = line_model.predict(X_test)\n",
    "line_predict_training = line_model.predict(X_train)\n",
    "line_mse = mean_squared_error(y_test, line_predict)\n",
    "\n",
    "print(\"Mean Squared Error on test data: \" + str(line_mse))\n",
    "\n",
    "print(\"We do not train on the test data, so that these datapoints are independent from the model. Because we can then test to see if the model has overfitted on the training data or not.\")\n"
   ]
  },
  {
   "cell_type": "markdown",
   "id": "22e7536e",
   "metadata": {},
   "source": []
  },
  {
   "cell_type": "code",
   "execution_count": 20,
   "id": "8eb1b797",
   "metadata": {},
   "outputs": [
    {
     "name": "stdout",
     "output_type": "stream",
     "text": [
      "[[1.00000000e+00 5.41709563e-01 2.93449250e-01]\n",
      " [1.00000000e+00 3.98894711e-01 1.59116990e-01]\n",
      " [1.00000000e+00 4.65535233e-01 2.16723053e-01]\n",
      " [1.00000000e+00 9.45013306e-01 8.93050149e-01]\n",
      " [1.00000000e+00 8.95497709e-01 8.01916147e-01]\n",
      " [1.00000000e+00 3.82194871e-01 1.46072920e-01]\n",
      " [1.00000000e+00 7.21859839e-01 5.21081628e-01]\n",
      " [1.00000000e+00 5.30498614e-02 2.81428779e-03]\n",
      " [1.00000000e+00 4.33874787e-02 1.88247331e-03]\n",
      " [1.00000000e+00 7.22693982e-02 5.22286592e-03]\n",
      " [1.00000000e+00 9.87155427e-01 9.74475837e-01]\n",
      " [1.00000000e+00 7.79909864e-01 6.08259397e-01]\n",
      " [1.00000000e+00 4.40860677e-01 1.94358136e-01]\n",
      " [1.00000000e+00 9.45992797e-01 8.94902371e-01]\n",
      " [1.00000000e+00 1.59997238e-02 2.55991161e-04]\n",
      " [1.00000000e+00 2.80676499e-01 7.87792972e-02]\n",
      " [1.00000000e+00 1.30929850e-01 1.71426255e-02]\n",
      " [1.00000000e+00 8.16580296e-01 6.66803379e-01]\n",
      " [1.00000000e+00 2.18297807e-01 4.76539327e-02]\n",
      " [1.00000000e+00 8.28520220e-01 6.86445755e-01]\n",
      " [1.00000000e+00 4.86805335e-01 2.36979434e-01]\n",
      " [1.00000000e+00 3.11588781e-01 9.70875687e-02]\n",
      " [1.00000000e+00 1.86454319e-01 3.47652129e-02]\n",
      " [1.00000000e+00 3.70081140e-01 1.36960050e-01]\n",
      " [1.00000000e+00 2.80382376e-01 7.86142770e-02]\n",
      " [1.00000000e+00 8.90060631e-01 7.92207928e-01]\n",
      " [1.00000000e+00 9.70120543e-01 9.41133867e-01]\n",
      " [1.00000000e+00 8.22739970e-01 6.76901058e-01]\n",
      " [1.00000000e+00 4.67283967e-01 2.18354306e-01]\n",
      " [1.00000000e+00 7.75052573e-01 6.00706491e-01]\n",
      " [1.00000000e+00 5.94282794e-01 3.53172039e-01]\n",
      " [1.00000000e+00 3.66991782e-01 1.34682968e-01]\n",
      " [1.00000000e+00 6.04966083e-01 3.65983962e-01]\n",
      " [1.00000000e+00 3.96919186e-01 1.57544840e-01]\n",
      " [1.00000000e+00 7.26915835e-01 5.28406631e-01]\n",
      " [1.00000000e+00 1.61614643e-02 2.61192928e-04]\n",
      " [1.00000000e+00 1.03609057e-01 1.07348367e-02]\n",
      " [1.00000000e+00 5.46344968e-01 2.98492824e-01]\n",
      " [1.00000000e+00 1.06500588e-01 1.13423752e-02]\n",
      " [1.00000000e+00 3.24737314e-02 1.05454323e-03]\n",
      " [1.00000000e+00 8.03020612e-01 6.44842103e-01]\n",
      " [1.00000000e+00 1.06454249e-01 1.13325072e-02]\n",
      " [1.00000000e+00 6.12734214e-01 3.75443216e-01]\n",
      " [1.00000000e+00 8.09382965e-01 6.55100783e-01]\n",
      " [1.00000000e+00 9.13093248e-01 8.33739279e-01]\n",
      " [1.00000000e+00 1.78531577e-01 3.18735241e-02]\n",
      " [1.00000000e+00 9.02026059e-01 8.13651011e-01]\n",
      " [1.00000000e+00 1.41518705e-01 2.00275439e-02]\n",
      " [1.00000000e+00 9.81156565e-01 9.62668205e-01]\n",
      " [1.00000000e+00 7.34346372e-02 5.39264593e-03]\n",
      " [1.00000000e+00 8.97654296e-02 8.05783235e-03]\n",
      " [1.00000000e+00 5.40929775e-01 2.92605022e-01]\n",
      " [1.00000000e+00 1.82628354e-01 3.33531158e-02]\n",
      " [1.00000000e+00 5.76825418e-01 3.32727563e-01]\n",
      " [1.00000000e+00 7.17099651e-01 5.14231909e-01]\n",
      " [1.00000000e+00 2.97985894e-01 8.87955929e-02]\n",
      " [1.00000000e+00 7.19981029e-02 5.18372682e-03]\n",
      " [1.00000000e+00 9.43992280e-01 8.91121425e-01]\n",
      " [1.00000000e+00 8.30364913e-01 6.89505889e-01]\n",
      " [1.00000000e+00 3.99706525e-01 1.59765306e-01]\n",
      " [1.00000000e+00 6.96511252e-01 4.85127924e-01]\n",
      " [1.00000000e+00 3.28296327e-01 1.07778478e-01]\n",
      " [1.00000000e+00 9.12569233e-01 8.32782606e-01]\n",
      " [1.00000000e+00 9.13483324e-01 8.34451784e-01]\n",
      " [1.00000000e+00 8.05463759e-01 6.48771867e-01]\n",
      " [1.00000000e+00 3.21223041e-01 1.03184242e-01]\n",
      " [1.00000000e+00 4.17848762e-01 1.74597588e-01]\n",
      " [1.00000000e+00 9.64753733e-01 9.30749766e-01]\n",
      " [1.00000000e+00 8.24692179e-01 6.80117190e-01]\n",
      " [1.00000000e+00 2.25579480e-01 5.08861016e-02]\n",
      " [1.00000000e+00 6.50769345e-01 4.23500741e-01]\n",
      " [1.00000000e+00 4.34130844e-02 1.88469589e-03]\n",
      " [1.00000000e+00 6.04051192e-02 3.64877842e-03]\n",
      " [1.00000000e+00 9.66303750e-01 9.33742937e-01]\n",
      " [1.00000000e+00 4.19434432e-02 1.75925243e-03]\n",
      " [1.00000000e+00 3.48731562e-02 1.21613702e-03]\n",
      " [1.00000000e+00 9.55449490e-01 9.12883727e-01]\n",
      " [1.00000000e+00 5.04133737e-02 2.54150824e-03]\n",
      " [1.00000000e+00 1.40562808e-01 1.97579029e-02]\n",
      " [1.00000000e+00 1.27839823e-01 1.63430204e-02]]\n",
      "[[0.52176454]\n",
      " [0.80546376]\n",
      " [0.96475373]\n",
      " [0.36699178]\n",
      " [0.18449155]\n",
      " [0.2806765 ]\n",
      " [0.10360906]\n",
      " [0.18645432]\n",
      " [0.72691583]\n",
      " [0.04338748]\n",
      " [0.38103776]\n",
      " [0.98715543]\n",
      " [0.30492725]\n",
      " [0.77505257]\n",
      " [0.05041337]\n",
      " [0.38219487]\n",
      " [0.82852022]\n",
      " [0.60496608]\n",
      " [0.92831456]\n",
      " [0.89006063]\n",
      " [0.04194344]\n",
      " [0.41784876]\n",
      " [0.77561554]\n",
      " [0.82469218]\n",
      " [0.59428279]\n",
      " [0.82273997]\n",
      " [0.46553523]\n",
      " [0.28038238]\n",
      " [0.9459928 ]\n",
      " [0.91348332]\n",
      " [0.21669581]\n",
      " [0.04978351]\n",
      " [0.94399228]\n",
      " [0.70555708]\n",
      " [0.31158878]\n",
      " [0.21829781]\n",
      " [0.10650059]\n",
      " [0.91256923]\n",
      " [0.39691919]\n",
      " [0.361315  ]\n",
      " [0.72185984]\n",
      " [0.54092978]\n",
      " [0.94501331]\n",
      " [0.80938296]\n",
      " [0.23566269]\n",
      " [0.95953062]\n",
      " [0.90202606]\n",
      " [0.77990986]\n",
      " [0.57682542]\n",
      " [0.48680533]\n",
      " [0.91309325]\n",
      " [0.12783982]\n",
      " [0.32122304]\n",
      " [0.57571231]\n",
      " [0.61273421]\n",
      " [0.54170956]\n",
      " [0.80302061]\n",
      " [0.29798589]\n",
      " [0.18262835]\n",
      " [0.39970652]\n",
      " [0.03487316]\n",
      " [0.98115656]\n",
      " [0.46728397]\n",
      " [0.69651125]\n",
      " [0.54634497]\n",
      " [0.8165803 ]\n",
      " [0.13092985]\n",
      " [0.17853158]\n",
      " [0.14151871]\n",
      " [0.89549771]\n",
      " [0.26560684]\n",
      " [0.95544949]\n",
      " [0.0722694 ]\n",
      " [0.741437  ]\n",
      " [0.04341308]\n",
      " [0.0719981 ]\n",
      " [0.57396523]\n",
      " [0.86187999]\n",
      " [0.01616146]\n",
      " [0.08976543]\n",
      " [0.76879112]\n",
      " [0.97012054]\n",
      " [0.96630375]\n",
      " [0.63098666]\n",
      " [0.32829633]\n",
      " [0.44086068]\n",
      " [0.06040512]\n",
      " [0.22557948]\n",
      " [0.39889471]\n",
      " [0.03247373]\n",
      " [0.22256217]\n",
      " [0.65076935]\n",
      " [0.14056281]\n",
      " [0.01599972]\n",
      " [0.83036491]\n",
      " [0.37008114]\n",
      " [0.05304986]\n",
      " [0.07343464]\n",
      " [0.71709965]\n",
      " [0.10645425]]\n"
     ]
    }
   ],
   "source": [
    "print(X_train)\n",
    "print(x)"
   ]
  },
  {
   "cell_type": "code",
   "execution_count": null,
   "id": "df07c96c",
   "metadata": {},
   "outputs": [],
   "source": []
  }
 ],
 "metadata": {
  "kernelspec": {
   "display_name": ".venv",
   "language": "python",
   "name": "python3"
  },
  "language_info": {
   "codemirror_mode": {
    "name": "ipython",
    "version": 3
   },
   "file_extension": ".py",
   "mimetype": "text/x-python",
   "name": "python",
   "nbconvert_exporter": "python",
   "pygments_lexer": "ipython3",
   "version": "3.13.7"
  }
 },
 "nbformat": 4,
 "nbformat_minor": 5
}
